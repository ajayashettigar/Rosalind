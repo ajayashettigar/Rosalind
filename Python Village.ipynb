{
 "cells": [
  {
   "cell_type": "markdown",
   "id": "4a383680",
   "metadata": {},
   "source": [
    "# Strings and Lists\n",
    "Problem\n",
    "Given: A string s\n",
    " of length at most 200 letters and four integers a, b, c and d.\n",
    "\n",
    "Return: The slice of this string from indices a through b and c through d\n",
    " (with space in between), inclusively. In other words, we should include elements s[b] and s[d] in our slice."
   ]
  },
  {
   "cell_type": "code",
   "execution_count": 1,
   "id": "70d90544",
   "metadata": {},
   "outputs": [
    {
     "name": "stdout",
     "output_type": "stream",
     "text": [
      "enter the stringHii I am Ajay. How are you doing? I am well and good!!\n",
      "Enter a and b2 10\n",
      "Enter c and d11 15\n",
      "i I am Aj\n",
      "ay. H\n"
     ]
    }
   ],
   "source": [
    "s=input(\"enter the string\")\n",
    "a,b=map(int,input('Enter a and b').split())\n",
    "c,d=map(int,input('Enter c and d').split())\n",
    "r1=''\n",
    "r2=''\n",
    "for i in range(a,b+1):\n",
    "    r1+=s[i]\n",
    "for i in range(c,d+1):\n",
    "    r2+=s[i]\n",
    "print(r1)\n",
    "print(r2)"
   ]
  },
  {
   "cell_type": "markdown",
   "id": "62673493",
   "metadata": {},
   "source": [
    "# Conditions and loops\n",
    "Problem\n",
    "Given: Two positive integers a and b (a<b<10000).\n",
    "\n",
    "Return: The sum of all odd integers from a through b, inclusively."
   ]
  },
  {
   "cell_type": "code",
   "execution_count": 2,
   "id": "52e83f61",
   "metadata": {},
   "outputs": [
    {
     "name": "stdout",
     "output_type": "stream",
     "text": [
      "4592 9551\n",
      "17538560\n"
     ]
    }
   ],
   "source": [
    "sum=0\n",
    "a,b=map(int,input().split())\n",
    "if a%2==0:\n",
    "    for i in range(a+1,b+1,2):\n",
    "        sum+=i\n",
    "else:\n",
    "    for i in range(a+1,b+1,2):\n",
    "        sum+=i\n",
    "print(sum)"
   ]
  },
  {
   "cell_type": "markdown",
   "id": "e0d427d6",
   "metadata": {},
   "source": [
    "# Working with files\n",
    "Given: A file containing at most 1000 lines.\n",
    "\n",
    "Return: A file containing all the even-numbered lines from the original file. Assume 1-based numbering of lines."
   ]
  }
 ],
 "metadata": {
  "kernelspec": {
   "display_name": "Python 3 (ipykernel)",
   "language": "python",
   "name": "python3"
  },
  "language_info": {
   "codemirror_mode": {
    "name": "ipython",
    "version": 3
   },
   "file_extension": ".py",
   "mimetype": "text/x-python",
   "name": "python",
   "nbconvert_exporter": "python",
   "pygments_lexer": "ipython3",
   "version": "3.11.5"
  }
 },
 "nbformat": 4,
 "nbformat_minor": 5
}
